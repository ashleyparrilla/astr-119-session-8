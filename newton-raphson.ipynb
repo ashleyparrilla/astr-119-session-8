{
 "cells": [
  {
   "cell_type": "markdown",
   "metadata": {},
   "source": [
    "# newton-ralphson root finding implementation"
   ]
  },
  {
   "cell_type": "code",
   "execution_count": 1,
   "metadata": {},
   "outputs": [],
   "source": [
    "%matplotlib inline\n",
    "import numpy as np\n",
    "import matplotlib.pyplot as plt"
   ]
  },
  {
   "cell_type": "markdown",
   "metadata": {},
   "source": [
    "### define the function for root finding"
   ]
  },
  {
   "cell_type": "code",
   "execution_count": 11,
   "metadata": {},
   "outputs": [],
   "source": [
    "def function_for_root(x):\n",
    "    a = 1.01\n",
    "    b = -3.04\n",
    "    c = 2.07\n",
    "    return a*x**2 + b*x + c"
   ]
  },
  {
   "cell_type": "markdown",
   "metadata": {},
   "source": [
    "### define the functions derivative"
   ]
  },
  {
   "cell_type": "code",
   "execution_count": 12,
   "metadata": {},
   "outputs": [],
   "source": [
    "def derivative_for_root(x):\n",
    "    a = 1.01\n",
    "    b = -3.04\n",
    "    return 2*a*x + b"
   ]
  },
  {
   "cell_type": "markdown",
   "metadata": {},
   "source": [
    "### define the primary work function"
   ]
  },
  {
   "cell_type": "code",
   "execution_count": 13,
   "metadata": {},
   "outputs": [],
   "source": [
    "def newton_raphson_root_finding(f, dfdx, x_start, tol):\n",
    "    \n",
    "    #this function uses newton-raphson search to find a root\n",
    "    #set flag\n",
    "    flag = 1\n",
    "    \n",
    "    #set a max number of iterations\n",
    "    imax = 10000\n",
    "    \n",
    "    #start a counter\n",
    "    i = 0\n",
    "    \n",
    "    #define the new and old guesses\n",
    "    x_old = x_start\n",
    "    x_new = 0.0\n",
    "    y_new = 0.0"
   ]
  },
  {
   "cell_type": "code",
   "execution_count": 15,
   "metadata": {
    "collapsed": true
   },
   "outputs": [
    {
     "ename": "SyntaxError",
     "evalue": "'return' outside function (<ipython-input-15-922813c11d0d>, line 23)",
     "output_type": "error",
     "traceback": [
      "\u001b[0;36m  File \u001b[0;32m\"<ipython-input-15-922813c11d0d>\"\u001b[0;36m, line \u001b[0;32m23\u001b[0m\n\u001b[0;31m    return x_new\u001b[0m\n\u001b[0m    ^\u001b[0m\n\u001b[0;31mSyntaxError\u001b[0m\u001b[0;31m:\u001b[0m 'return' outside function\n"
     ]
    }
   ],
   "source": [
    "#start the loop\n",
    "while (flag):\n",
    "    \n",
    "    #make a new guess\n",
    "    x_new = x_old - f(x_old)/dfdx(x_old)\n",
    "    \n",
    "    print(x_new,x_old,f(x_old),dfdx(x_old))\n",
    "    \n",
    "    #if this abs value of the new function value is <tol, then stop\n",
    "    y_new = f(x_new)\n",
    "    if(np.fabs(y_new)<tol):\n",
    "        flag = 0  #stop iteration\n",
    "    else:\n",
    "        #save the result\n",
    "        x_old = x_new\n",
    "        #increment the iteration\n",
    "        i += 1\n",
    "        \n",
    "    if(i>=imax):\n",
    "        print(\"max iterations reached.\")\n",
    "        raise StopIteration('stopping iteration after ',i)\n",
    "        \n",
    "    return x_new"
   ]
  },
  {
   "cell_type": "markdown",
   "metadata": {},
   "source": [
    "### perform the search"
   ]
  },
  {
   "cell_type": "code",
   "execution_count": 16,
   "metadata": {
    "collapsed": true
   },
   "outputs": [
    {
     "name": "stdout",
     "output_type": "stream",
     "text": [
      "0.5 0.8024999999999998\n"
     ]
    },
    {
     "ename": "TypeError",
     "evalue": "unsupported operand type(s) for ** or pow(): 'NoneType' and 'int'",
     "output_type": "error",
     "traceback": [
      "\u001b[0;31m---------------------------------------------------------------------------\u001b[0m",
      "\u001b[0;31mTypeError\u001b[0m                                 Traceback (most recent call last)",
      "\u001b[0;32m<ipython-input-16-55101bccc4d4>\u001b[0m in \u001b[0;36m<module>\u001b[0;34m()\u001b[0m\n\u001b[1;32m      6\u001b[0m \u001b[0;34m\u001b[0m\u001b[0m\n\u001b[1;32m      7\u001b[0m \u001b[0mx_root\u001b[0m \u001b[0;34m=\u001b[0m \u001b[0mnewton_raphson_root_finding\u001b[0m\u001b[0;34m(\u001b[0m\u001b[0mfunction_for_root\u001b[0m\u001b[0;34m,\u001b[0m\u001b[0mderivative_for_root\u001b[0m\u001b[0;34m,\u001b[0m\u001b[0mx_start\u001b[0m\u001b[0;34m,\u001b[0m\u001b[0mtolerance\u001b[0m\u001b[0;34m)\u001b[0m\u001b[0;34m\u001b[0m\u001b[0m\n\u001b[0;32m----> 8\u001b[0;31m \u001b[0my_root\u001b[0m \u001b[0;34m=\u001b[0m \u001b[0mfunction_for_root\u001b[0m\u001b[0;34m(\u001b[0m\u001b[0mx_root\u001b[0m\u001b[0;34m)\u001b[0m\u001b[0;34m\u001b[0m\u001b[0m\n\u001b[0m\u001b[1;32m      9\u001b[0m \u001b[0;34m\u001b[0m\u001b[0m\n\u001b[1;32m     10\u001b[0m \u001b[0ms\u001b[0m \u001b[0;34m=\u001b[0m \u001b[0;34m\"root found with y(%f) = %f\"\u001b[0m \u001b[0;34m%\u001b[0m \u001b[0;34m(\u001b[0m\u001b[0mx_root\u001b[0m\u001b[0;34m,\u001b[0m\u001b[0my_root\u001b[0m\u001b[0;34m)\u001b[0m\u001b[0;34m\u001b[0m\u001b[0m\n",
      "\u001b[0;32m<ipython-input-11-108fa14ff152>\u001b[0m in \u001b[0;36mfunction_for_root\u001b[0;34m(x)\u001b[0m\n\u001b[1;32m      3\u001b[0m     \u001b[0mb\u001b[0m \u001b[0;34m=\u001b[0m \u001b[0;34m-\u001b[0m\u001b[0;36m3.04\u001b[0m\u001b[0;34m\u001b[0m\u001b[0m\n\u001b[1;32m      4\u001b[0m     \u001b[0mc\u001b[0m \u001b[0;34m=\u001b[0m \u001b[0;36m2.07\u001b[0m\u001b[0;34m\u001b[0m\u001b[0m\n\u001b[0;32m----> 5\u001b[0;31m     \u001b[0;32mreturn\u001b[0m \u001b[0ma\u001b[0m\u001b[0;34m*\u001b[0m\u001b[0mx\u001b[0m\u001b[0;34m**\u001b[0m\u001b[0;36m2\u001b[0m \u001b[0;34m+\u001b[0m \u001b[0mb\u001b[0m\u001b[0;34m*\u001b[0m\u001b[0mx\u001b[0m \u001b[0;34m+\u001b[0m \u001b[0mc\u001b[0m\u001b[0;34m\u001b[0m\u001b[0m\n\u001b[0m",
      "\u001b[0;31mTypeError\u001b[0m: unsupported operand type(s) for ** or pow(): 'NoneType' and 'int'"
     ]
    }
   ],
   "source": [
    "x_start = 0.5\n",
    "tolerance = 1.0e-6\n",
    "\n",
    "#print this intial guess\n",
    "print(x_start,function_for_root(x_start))\n",
    "\n",
    "x_root = newton_raphson_root_finding(function_for_root,derivative_for_root,x_start,tolerance)\n",
    "y_root = function_for_root(x_root)\n",
    "\n",
    "s = \"root found with y(%f) = %f\" % (x_root,y_root)\n",
    "print(s)"
   ]
  },
  {
   "cell_type": "code",
   "execution_count": null,
   "metadata": {},
   "outputs": [],
   "source": []
  }
 ],
 "metadata": {
  "kernelspec": {
   "display_name": "Python 3",
   "language": "python",
   "name": "python3"
  },
  "language_info": {
   "codemirror_mode": {
    "name": "ipython",
    "version": 3
   },
   "file_extension": ".py",
   "mimetype": "text/x-python",
   "name": "python",
   "nbconvert_exporter": "python",
   "pygments_lexer": "ipython3",
   "version": "3.6.5"
  }
 },
 "nbformat": 4,
 "nbformat_minor": 2
}
